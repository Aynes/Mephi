{
 "cells": [
  {
   "cell_type": "markdown",
   "metadata": {},
   "source": [
    "# *Рекурсия*"
   ]
  },
  {
   "cell_type": "markdown",
   "metadata": {},
   "source": [
    "## *Факториал:*"
   ]
  },
  {
   "cell_type": "code",
   "execution_count": 3,
   "metadata": {
    "collapsed": true
   },
   "outputs": [],
   "source": [
    "def factorial (n):\n",
    "    \n",
    "    \"\"\" \n",
    "    Возвращает фаакториал числа n.\n",
    "    На вход подается неотрицательное число.\n",
    "    \n",
    "    >>> factorial (3)\n",
    "    6\n",
    "    >>> factorial (0)\n",
    "    1\n",
    "    \n",
    "    \"\"\"\n",
    "    assert n >= 0, \"Факториал не определен\"\n",
    "    if n == 0:\n",
    "        return 1\n",
    "    return factorial(n-1) * n"
   ]
  },
  {
   "cell_type": "code",
   "execution_count": 4,
   "metadata": {
    "collapsed": true
   },
   "outputs": [],
   "source": [
    "if __name__==\"__main__\":\n",
    "    import doctest\n",
    "    doctest.testmod()"
   ]
  },
  {
   "cell_type": "markdown",
   "metadata": {},
   "source": [
    "## *Наиболший общий длитель (Алгоритм Евклида):*"
   ]
  },
  {
   "cell_type": "code",
   "execution_count": 10,
   "metadata": {
    "collapsed": true
   },
   "outputs": [],
   "source": [
    "def algoritm_evklida (a,b):\n",
    "    \n",
    "    \"\"\"\n",
    "    Возвращает наибольшее общее кратное чисел a и b.\n",
    "    \n",
    "    >>> algoritm_evklida(24,16)\n",
    "    8\n",
    "    >>> algoritm_evklida(1234,988)\n",
    "    2\n",
    "    \n",
    "    \"\"\"\n",
    "    \n",
    "    return a if b == 0 else algoritm_evklida(b,a%b)"
   ]
  },
  {
   "cell_type": "code",
   "execution_count": 12,
   "metadata": {
    "collapsed": true
   },
   "outputs": [],
   "source": [
    "if __name__==\"__main__\":\n",
    "    import doctest\n",
    "    doctest.testmod()"
   ]
  },
  {
   "cell_type": "markdown",
   "metadata": {},
   "source": [
    "## *Быстрое возведение в степень:*"
   ]
  },
  {
   "cell_type": "code",
   "execution_count": 17,
   "metadata": {
    "collapsed": true
   },
   "outputs": [],
   "source": [
    "def pow (a,n):\n",
    "    \n",
    "    \"\"\"\n",
    "    Возвращает а в степени n.\n",
    "    a > 0;\n",
    "    n - целое.\n",
    "    \n",
    "    >>> pow (12,13)\n",
    "    106993205379072\n",
    "    \n",
    "    \"\"\"\n",
    "    \n",
    "    if n == 0:\n",
    "        return 1\n",
    "    if n % 2 == 1:\n",
    "        return pow(a,n-1)*a\n",
    "    else:\n",
    "        return pow(a**2,n//2) #n=2k; a^n = a^2k = (a^2)^k = (a^2)^n/2"
   ]
  },
  {
   "cell_type": "code",
   "execution_count": 19,
   "metadata": {
    "collapsed": true
   },
   "outputs": [],
   "source": [
    "if __name__==\"__main__\":\n",
    "    import doctest\n",
    "    doctest.testmod()"
   ]
  },
  {
   "cell_type": "markdown",
   "metadata": {},
   "source": [
    "## *Генерация всех перестановок:*"
   ]
  },
  {
   "cell_type": "code",
   "execution_count": 22,
   "metadata": {
    "collapsed": true
   },
   "outputs": [],
   "source": [
    "def generate_numbers (N, M, prefix = None):\n",
    "    \n",
    "    \"\"\"\n",
    "    Возвращает все числа длиной M (с лидирующими нулями) \n",
    "    в N-ричной системе счисления.\n",
    "    \n",
    "    \"\"\"\n",
    "    \n",
    "    prefix = prefix or []\n",
    "    if M == 0:\n",
    "        print (prefix)\n",
    "        return\n",
    "    for digit in range(N):\n",
    "        prefix.append(digit)\n",
    "        generate_numbers(N,M-1,prefix)\n",
    "        prefix.pop()"
   ]
  },
  {
   "cell_type": "code",
   "execution_count": 26,
   "metadata": {},
   "outputs": [
    {
     "name": "stdout",
     "output_type": "stream",
     "text": [
      "[0, 0, 0]\n",
      "[0, 0, 1]\n",
      "[0, 1, 0]\n",
      "[0, 1, 1]\n",
      "[1, 0, 0]\n",
      "[1, 0, 1]\n",
      "[1, 1, 0]\n",
      "[1, 1, 1]\n"
     ]
    }
   ],
   "source": [
    "generate_numbers(2,3)"
   ]
  },
  {
   "cell_type": "code",
   "execution_count": 32,
   "metadata": {
    "collapsed": true
   },
   "outputs": [],
   "source": [
    "def gen_bin (M, prefix = \"\"):\n",
    "    \n",
    "    \"\"\"\n",
    "    Возвращает все числа длинны М в двоичной системе счисления.\n",
    "    \n",
    "    \"\"\"\n",
    "    \n",
    "    if M == 0:\n",
    "        print (prefix)\n",
    "        return\n",
    "    gen_bin(M-1, prefix + \"0\")\n",
    "    gen_bin(M-1, prefix + \"1\")"
   ]
  },
  {
   "cell_type": "code",
   "execution_count": 33,
   "metadata": {},
   "outputs": [
    {
     "name": "stdout",
     "output_type": "stream",
     "text": [
      "000\n",
      "001\n",
      "010\n",
      "011\n",
      "100\n",
      "101\n",
      "110\n",
      "111\n"
     ]
    }
   ],
   "source": [
    "gen_bin (3)"
   ]
  },
  {
   "cell_type": "markdown",
   "metadata": {},
   "source": [
    "## *Генерация всех перестановок N чисел в M позициях:*"
   ]
  },
  {
   "cell_type": "code",
   "execution_count": 5,
   "metadata": {
    "collapsed": true
   },
   "outputs": [],
   "source": [
    "def find (number,s):\n",
    "    \n",
    "    \"\"\"\n",
    "    Возвращает True, если number содержится в A.\n",
    "    \n",
    "    >>> find (2,[1,2,3])\n",
    "    True\n",
    "    >>> find (123,[1,2,3])\n",
    "    False\n",
    "    \n",
    "    \"\"\"\n",
    "    for x in s:\n",
    "        if number == x:\n",
    "            return True\n",
    "    return False"
   ]
  },
  {
   "cell_type": "code",
   "execution_count": 6,
   "metadata": {
    "collapsed": true
   },
   "outputs": [],
   "source": [
    "if __name__==\"__main__\":\n",
    "    import doctest\n",
    "    doctest.testmod()"
   ]
  },
  {
   "cell_type": "code",
   "execution_count": 15,
   "metadata": {},
   "outputs": [],
   "source": [
    "def permutation_generation (N, M=-1, prefix=None):\n",
    "    \n",
    "    \"\"\"\n",
    "    Возвращает все возможные перестановки N чисел в M позициях.\n",
    "    По умолчанию кол-во позиций равно кол-ву чисел (M=N).\n",
    "    \n",
    "    \"\"\"\n",
    "    \n",
    "    M = N if M == -1 else M\n",
    "    prefix = prefix or []\n",
    "    if M == 0:\n",
    "        print (*prefix, end=', ', sep=\"\")\n",
    "        return\n",
    "    for number in range (1,N+1):\n",
    "        if find(number, prefix):\n",
    "            continue \n",
    "        prefix.append(number)\n",
    "        permutation_generation(N,M-1,prefix)\n",
    "        prefix.pop()"
   ]
  },
  {
   "cell_type": "code",
   "execution_count": 16,
   "metadata": {},
   "outputs": [
    {
     "name": "stdout",
     "output_type": "stream",
     "text": [
      "123, 132, 213, 231, 312, 321, "
     ]
    }
   ],
   "source": [
    "permutation_generation(3)"
   ]
  },
  {
   "cell_type": "markdown",
   "metadata": {},
   "source": [
    "## *Сортировка слиянием:*"
   ]
  },
  {
   "cell_type": "code",
   "execution_count": 28,
   "metadata": {
    "collapsed": true
   },
   "outputs": [],
   "source": [
    "def merge (A,B):\n",
    "    \n",
    "    \"\"\"\n",
    "    Возвращает отсортированный по возрастанию список\n",
    "    из элементов дыух других отсортированных (по возрасстанию) списков.\n",
    "    \n",
    "    >>> A=[1,3,4,6]\n",
    "    >>> B=[2,4,5,7]\n",
    "    >>> merge(A,B)\n",
    "    [1, 2, 3, 4, 4, 5, 6, 7]\n",
    "    \n",
    "    \"\"\"\n",
    "    C = [0]*(len(A)+len(B))\n",
    "    i = k = n = 0 # i - индекс элементов А, k - B, n - C.\n",
    "    while i < len(A) and k < len(B):\n",
    "        if A[i] <= B[k]:\n",
    "            C[n] = A[i]\n",
    "            i += 1\n",
    "            n += 1\n",
    "        else:\n",
    "            C[n] = B[k]\n",
    "            k += 1\n",
    "            n += 1\n",
    "    while i < len(A):\n",
    "        C[n] = A[i];\n",
    "        i += 1\n",
    "        n += 1\n",
    "    while k < len(B):\n",
    "        C[n] = B[k];\n",
    "        k += 1\n",
    "        n += 1\n",
    "    return C"
   ]
  },
  {
   "cell_type": "code",
   "execution_count": 34,
   "metadata": {},
   "outputs": [],
   "source": [
    "if __name__==\"__main__\":\n",
    "    import doctest\n",
    "    doctest.testmod()"
   ]
  },
  {
   "cell_type": "code",
   "execution_count": 36,
   "metadata": {
    "collapsed": true
   },
   "outputs": [],
   "source": [
    "def merge_sort (A):\n",
    "    \n",
    "    \"\"\"\n",
    "    Возвращает отсортированный по возрастанию список А\n",
    "    \n",
    "    >>> B = [1, 2, 4, 5, 3, 5, 6, 7, 2]\n",
    "    >>> merge_sort (B)\n",
    "    [1, 2, 2, 3, 4, 5, 5, 6, 7]\n",
    "    \n",
    "    \"\"\"\n",
    "    if len(A) <= 1:\n",
    "        return\n",
    "    middel = len(A) // 2\n",
    "    L = [A[i] for i in range(0,middel)]\n",
    "    R = [A[i] for i in range(middel, len(A))]\n",
    "    merge_sort(L)\n",
    "    merge_sort(R)\n",
    "    C = merge(L,R)\n",
    "    for i in range(len(A)):\n",
    "        A[i]=C[i]\n",
    "    return (A)"
   ]
  },
  {
   "cell_type": "markdown",
   "metadata": {},
   "source": [
    "## *Сортировка Тони Хоара (QuickSort):*"
   ]
  },
  {
   "cell_type": "code",
   "execution_count": 49,
   "metadata": {},
   "outputs": [],
   "source": [
    "def hoar_sort (A):\n",
    "    \"\"\"\n",
    "    Возвращает, отсортированный по возрастанию сисок А.\n",
    "    \n",
    "    >>> B=[1, 2, 4, 5, 3, 5, 6, 7, 2]\n",
    "    >>> hoar_sort(B)\n",
    "    [1, 2, 2, 3, 4, 5, 5, 6, 7]\n",
    "    \n",
    "    \"\"\"\n",
    "    if len(A) <= 1:\n",
    "        return\n",
    "    barrier = A[0]\n",
    "    L = []\n",
    "    M = []\n",
    "    R = []\n",
    "    for x in A:\n",
    "        if x < barrier:\n",
    "            L.append(x)\n",
    "        elif x == barrier:\n",
    "            M.append(x)\n",
    "        else:\n",
    "            R.append(x)\n",
    "    k = 0\n",
    "    hoar_sort(L)\n",
    "    hoar_sort(R)\n",
    "    for x in L+M+R:\n",
    "        A[k] = x\n",
    "        k += 1\n",
    "    return A"
   ]
  },
  {
   "cell_type": "code",
   "execution_count": 50,
   "metadata": {},
   "outputs": [],
   "source": [
    "if __name__==\"__main__\":\n",
    "    import doctest\n",
    "    doctest.testmod()"
   ]
  },
  {
   "cell_type": "markdown",
   "metadata": {},
   "source": [
    "# Проверка упорядоченности списка:"
   ]
  },
  {
   "cell_type": "code",
   "execution_count": 52,
   "metadata": {
    "collapsed": true
   },
   "outputs": [],
   "source": [
    "def check_sorted (A,ascending=True):\n",
    "    \n",
    "    \"\"\"\n",
    "    Возвращает True, если список отсортирован,\n",
    "    иначе - False.\n",
    "    По умолчанию список проверяется на упорядоченность по возрастанию.\n",
    "    Для проверки упорядоченности по убыванию\n",
    "    необходимо передать функции второй параметр как False.\n",
    "\n",
    "    >>> B=[1, 2, 4, 5, 5, 6, 7]\n",
    "    >>> check_sorted(B)\n",
    "    True\n",
    "    >>> check_sorted(B, False)\n",
    "    False\n",
    "    \n",
    "    \"\"\"\n",
    "    \n",
    "    flag = True\n",
    "    s = 2 * int(ascending) -1; # ascending = True -> s = 1; False -> -1\n",
    "    for i in range(0, len(A)-1):\n",
    "        if (s * A[i]) > (s * A[i+1]):\n",
    "            flag = False\n",
    "            break\n",
    "    return flag"
   ]
  },
  {
   "cell_type": "code",
   "execution_count": 54,
   "metadata": {
    "collapsed": true
   },
   "outputs": [],
   "source": [
    "if __name__==\"__main__\":\n",
    "    import doctest\n",
    "    doctest.testmod()"
   ]
  },
  {
   "cell_type": "markdown",
   "metadata": {},
   "source": [
    "# Реализация бинарного поиска в массиве:"
   ]
  },
  {
   "cell_type": "code",
   "execution_count": 55,
   "metadata": {
    "collapsed": true
   },
   "outputs": [],
   "source": [
    "def left_bourd (A, key):\n",
    "    \n",
    "    \"\"\"\n",
    "    На вход принимает отсортированный по возрастанию список А.\n",
    "    Возвращает индекс последнего элемента \n",
    "    списка А  меньшего key.\n",
    "    \n",
    "    B=[1, 2, 4, 5, 5, 6, 7]\n",
    "    left_bourd(B,5) \n",
    "    2 \n",
    "    \n",
    "    \"\"\"\n",
    "    \n",
    "    left = -1\n",
    "    right = len(A)\n",
    "    while right - left > 1:\n",
    "        middel = (left + right) // 2\n",
    "        if A[middel] < key:\n",
    "            left = middel\n",
    "        else:\n",
    "            right = middel\n",
    "    return left"
   ]
  },
  {
   "cell_type": "code",
   "execution_count": 57,
   "metadata": {
    "collapsed": true
   },
   "outputs": [],
   "source": [
    "def right_bourd (A, key):\n",
    "    \n",
    "    \"\"\"\n",
    "    На вход принимает отсортированный по возрастанию список А.\n",
    "    Возвращает индекс первого элемента \n",
    "    списка А  большего key.\n",
    "    \n",
    "    B=[1, 2, 4, 5, 5, 6, 7]\n",
    "    left_bourd(B,5) \n",
    "    5 \n",
    "    \n",
    "    \"\"\"\n",
    "    \n",
    "    left = -1\n",
    "    right = len(A)\n",
    "    while right - left > 1:\n",
    "        middel = (left + right) // 2\n",
    "        if A[middel] <= key:\n",
    "            left = middel\n",
    "        else:\n",
    "            right = middel\n",
    "    return right"
   ]
  },
  {
   "cell_type": "code",
   "execution_count": 58,
   "metadata": {
    "collapsed": true
   },
   "outputs": [],
   "source": [
    "if __name__==\"__main__\":\n",
    "    import doctest\n",
    "    doctest.testmod()"
   ]
  }
 ],
 "metadata": {
  "kernelspec": {
   "display_name": "Python 3",
   "language": "python",
   "name": "python3"
  },
  "language_info": {
   "codemirror_mode": {
    "name": "ipython",
    "version": 3
   },
   "file_extension": ".py",
   "mimetype": "text/x-python",
   "name": "python",
   "nbconvert_exporter": "python",
   "pygments_lexer": "ipython3",
   "version": "3.6.1"
  }
 },
 "nbformat": 4,
 "nbformat_minor": 2
}
