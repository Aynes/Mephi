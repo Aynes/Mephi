{
 "cells": [
  {
   "cell_type": "markdown",
   "metadata": {},
   "source": [
    "# *Линейный поиск в массиве:*"
   ]
  },
  {
   "cell_type": "code",
   "execution_count": 3,
   "metadata": {
    "collapsed": true
   },
   "outputs": [],
   "source": [
    "def array_serch (A,x):\n",
    "    \n",
    "    \"\"\"\n",
    "    Осуществляет поиск числа х в массиве А.\n",
    "    Возвращает индекс элемента х в массиве А.\n",
    "    Если такого элемента нет, возвращает -1.\n",
    "    \n",
    "    >>> array_serch([1, 2, 3, 4, 5], 8)\n",
    "    -1\n",
    "    >>> array_serch([3, 6, -7, 5, 3, 6], -7)\n",
    "    2\n",
    "    \n",
    "    \"\"\"\n",
    "    \n",
    "    for i in range(len(A)):\n",
    "        if A[i] == x:\n",
    "            return i\n",
    "    return -1"
   ]
  },
  {
   "cell_type": "code",
   "execution_count": 4,
   "metadata": {},
   "outputs": [],
   "source": [
    "if __name__==\"__main__\":\n",
    "    import doctest\n",
    "    doctest.testmod()"
   ]
  },
  {
   "cell_type": "markdown",
   "metadata": {},
   "source": [
    "# *Инверсия массива:*"
   ]
  },
  {
   "cell_type": "code",
   "execution_count": 11,
   "metadata": {
    "collapsed": true
   },
   "outputs": [],
   "source": [
    "def invert_array (A):\n",
    "    \n",
    "    \"\"\"\n",
    "    Возвращает массив в обратном порядке.\n",
    "    \n",
    "    >>> invert_array ([1, 2, 3])\n",
    "    [3, 2, 1]\n",
    "    \n",
    "    \"\"\"\n",
    "    \n",
    "    for i in range (len(A) // 2):\n",
    "        A[i], A[len(A)-1-i] = A[len(A)-1-i], A[i]\n",
    "    return A"
   ]
  },
  {
   "cell_type": "code",
   "execution_count": 12,
   "metadata": {},
   "outputs": [],
   "source": [
    "if __name__==\"__main__\":\n",
    "    import doctest\n",
    "    doctest.testmod()"
   ]
  },
  {
   "cell_type": "markdown",
   "metadata": {},
   "source": [
    "# *Циклический сдвиг в массиве:*"
   ]
  },
  {
   "cell_type": "markdown",
   "metadata": {},
   "source": [
    "## *Сдвиг влево:*"
   ]
  },
  {
   "cell_type": "code",
   "execution_count": 31,
   "metadata": {
    "collapsed": true
   },
   "outputs": [],
   "source": [
    "def left_slide (A, n):\n",
    "    \n",
    "    \"\"\"\n",
    "    Возвращает массив, сдвинутый на n единиц влево.\n",
    "    \n",
    "    >>> left_slide ([0, 1, 2, 3, 4], 2)\n",
    "    [2, 3, 4, 0, 1]\n",
    "    \n",
    "    >>> left_slide ([0, 1, 2, 3, 4], 5)\n",
    "    [0, 1, 2, 3, 4]\n",
    "    \"\"\"\n",
    "    for k in range (n):\n",
    "        tmp = A[0]\n",
    "        for i in range(1,len(A)):\n",
    "            A[i-1] = A[i]\n",
    "        A[len(A)-1] = tmp\n",
    "    return A"
   ]
  },
  {
   "cell_type": "code",
   "execution_count": 32,
   "metadata": {},
   "outputs": [],
   "source": [
    "if __name__==\"__main__\":\n",
    "    import doctest\n",
    "    doctest.testmod()"
   ]
  },
  {
   "cell_type": "markdown",
   "metadata": {},
   "source": [
    "## *Сдвиг вправо:*"
   ]
  },
  {
   "cell_type": "code",
   "execution_count": 55,
   "metadata": {},
   "outputs": [],
   "source": [
    "def right_slide (A, n):\n",
    "    \n",
    "    \"\"\"\n",
    "    Возвращает массив, сдвинутый на n единиц вправо.\n",
    "    \n",
    "    >>> right_slide ([0, 1, 2, 3, 4], 2)\n",
    "    [3, 4, 0, 1, 2]\n",
    "    \n",
    "    >>> right_slide ([0, 1, 2, 3, 4], 5)\n",
    "    [0, 1, 2, 3, 4]\n",
    "    \"\"\"\n",
    "    \n",
    "    for k in range (n):\n",
    "        tmp = A[len(A)-1]\n",
    "        for i in range(len(A)-2,-1,-1):\n",
    "            A[i+1] = A[i]\n",
    "        A[0] = tmp\n",
    "    return A"
   ]
  },
  {
   "cell_type": "code",
   "execution_count": 56,
   "metadata": {},
   "outputs": [],
   "source": [
    "if __name__==\"__main__\":\n",
    "    import doctest\n",
    "    doctest.testmod()"
   ]
  },
  {
   "cell_type": "code",
   "execution_count": null,
   "metadata": {
    "collapsed": true
   },
   "outputs": [],
   "source": []
  },
  {
   "cell_type": "markdown",
   "metadata": {},
   "source": [
    "# *Решето Эратосфена:*"
   ]
  },
  {
   "cell_type": "code",
   "execution_count": 62,
   "metadata": {
    "collapsed": true
   },
   "outputs": [],
   "source": [
    "def eratosfen (N):\n",
    "    \n",
    "    \"\"\"\n",
    "    Возвращает первые n чисел с определением, простые они или сложные.\n",
    "    \n",
    "    >>> eratosfen (6)\n",
    "    0 - Простое\n",
    "    1 - Простое\n",
    "    2 - Простое\n",
    "    3 - Простое\n",
    "    4 - Составное\n",
    "    5 - Простое\n",
    "    \n",
    "    \"\"\"\n",
    "    \n",
    "    A = [True] * N\n",
    "    for k in range (2, N): # A[0]=A[1]=True\n",
    "        if A[k]:\n",
    "            for m in range (k*2,N,k):\n",
    "                A[m] = False\n",
    "    for k in range (N):\n",
    "        print (k,'-','Простое' if A[k] else \"Составное\")"
   ]
  },
  {
   "cell_type": "code",
   "execution_count": 63,
   "metadata": {},
   "outputs": [],
   "source": [
    "if __name__==\"__main__\":\n",
    "    import doctest\n",
    "    doctest.testmod()"
   ]
  }
 ],
 "metadata": {
  "kernelspec": {
   "display_name": "Python 3",
   "language": "python",
   "name": "python3"
  },
  "language_info": {
   "codemirror_mode": {
    "name": "ipython",
    "version": 3
   },
   "file_extension": ".py",
   "mimetype": "text/x-python",
   "name": "python",
   "nbconvert_exporter": "python",
   "pygments_lexer": "ipython3",
   "version": "3.6.1"
  }
 },
 "nbformat": 4,
 "nbformat_minor": 2
}
