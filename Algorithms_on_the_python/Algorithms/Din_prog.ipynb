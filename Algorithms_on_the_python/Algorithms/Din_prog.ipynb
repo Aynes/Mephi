{
 "cells": [
  {
   "cell_type": "markdown",
   "metadata": {},
   "source": [
    "# *Динамическое программирование:*"
   ]
  },
  {
   "cell_type": "markdown",
   "metadata": {},
   "source": [
    "## *Числа фибоначи:*"
   ]
  },
  {
   "cell_type": "code",
   "execution_count": 17,
   "metadata": {
    "collapsed": true
   },
   "outputs": [],
   "source": [
    "def ch_fibonaci (n):\n",
    "    \n",
    "    \"\"\"\n",
    "    Возвращает первые n чисел Фибоначи\n",
    "    \n",
    "    \"\"\"\n",
    "    fib_array = [0,1] + [0]*(n-1)\n",
    "    print (fib_array[0], fib_array[1], end=\", \")\n",
    "    for i in range (2, n):\n",
    "        fib_array[i] = fib_array[i-1] + fib_array[i-2]\n",
    "        print (fib_array[i], end=\", \")"
   ]
  },
  {
   "cell_type": "code",
   "execution_count": 24,
   "metadata": {},
   "outputs": [
    {
     "name": "stdout",
     "output_type": "stream",
     "text": [
      "0 1, 1, 2, 3, 5, 8, 13, 21, 34, 55, 89, 144, 233, 377, 610, 987, 1597, 2584, "
     ]
    }
   ],
   "source": [
    "ch_fibonaci (19)"
   ]
  },
  {
   "cell_type": "markdown",
   "metadata": {},
   "source": [
    "## *Задача про \"кузнейчика\":*"
   ]
  },
  {
   "cell_type": "code",
   "execution_count": 45,
   "metadata": {
    "collapsed": true
   },
   "outputs": [],
   "source": [
    "def num_traj (N):\n",
    "    \n",
    "    \"\"\"\n",
    "    Возвращает количество траекторий из единицы в N.\n",
    "    Передвигаться можно только +1 и +2.\n",
    "    \n",
    "    \"\"\"\n",
    "    traj = [0] * N\n",
    "    traj[1] = 1\n",
    "    traj[2] = 2\n",
    "    for i in range(3,N):\n",
    "        traj[i] = traj[i-1]+traj[i-2]\n",
    "    print (traj)\n",
    "    return traj[N-1]"
   ]
  },
  {
   "cell_type": "code",
   "execution_count": 46,
   "metadata": {},
   "outputs": [
    {
     "name": "stdout",
     "output_type": "stream",
     "text": [
      "[0, 1, 2, 3, 5, 8, 13, 21, 34, 55]\n"
     ]
    },
    {
     "data": {
      "text/plain": [
       "55"
      ]
     },
     "execution_count": 46,
     "metadata": {},
     "output_type": "execute_result"
    }
   ],
   "source": [
    "num_traj (10)"
   ]
  },
  {
   "cell_type": "code",
   "execution_count": 12,
   "metadata": {
    "collapsed": true
   },
   "outputs": [],
   "source": [
    "def num_traj_mod (N,F):\n",
    "    \n",
    "    \"\"\"\n",
    "    Возвращает количество траекторий из единицы в N.\n",
    "    Передвигаться можно только +1 и +2 и +3.\n",
    "    F - задает ограничение на посещение клеток, отмеченных False/\n",
    "    \n",
    "    \"\"\"\n",
    "    traj = [0] * (N+1)\n",
    "    k = 1\n",
    "    for i in F:\n",
    "        if i:\n",
    "            traj[k]=1\n",
    "            k += 1\n",
    "        else:\n",
    "            k +=1\n",
    "    traj[1] = traj[1]*(1)\n",
    "    traj[2] = traj[2]*(traj[1]+1)\n",
    "    traj[3] = traj[3]*(traj[1]+traj[2]+1)\n",
    "    for i in range(4,N+1):\n",
    "        if F[i-1]:\n",
    "            traj[i] = traj[i-1] + traj[i-2] + traj[i-3]\n",
    "    print (traj)\n",
    "    return traj[N]"
   ]
  },
  {
   "cell_type": "code",
   "execution_count": 16,
   "metadata": {},
   "outputs": [
    {
     "name": "stdout",
     "output_type": "stream",
     "text": [
      "[0, 1, 0, 2, 3, 0, 5, 8, 0, 13, 21]\n"
     ]
    },
    {
     "data": {
      "text/plain": [
       "21"
      ]
     },
     "execution_count": 16,
     "metadata": {},
     "output_type": "execute_result"
    }
   ],
   "source": [
    "num_traj_mod (10, [True,False,True,True,False,True,True,False,True,True])"
   ]
  },
  {
   "cell_type": "code",
   "execution_count": null,
   "metadata": {
    "collapsed": true
   },
   "outputs": [],
   "source": []
  }
 ],
 "metadata": {
  "kernelspec": {
   "display_name": "Python 3",
   "language": "python",
   "name": "python3"
  },
  "language_info": {
   "codemirror_mode": {
    "name": "ipython",
    "version": 3
   },
   "file_extension": ".py",
   "mimetype": "text/x-python",
   "name": "python",
   "nbconvert_exporter": "python",
   "pygments_lexer": "ipython3",
   "version": "3.6.1"
  }
 },
 "nbformat": 4,
 "nbformat_minor": 2
}
