{
 "cells": [
  {
   "cell_type": "markdown",
   "metadata": {},
   "source": [
    "# *Квадратичные сортировки О(N квадрат)*"
   ]
  },
  {
   "cell_type": "code",
   "execution_count": 5,
   "metadata": {
    "collapsed": true
   },
   "outputs": [],
   "source": [
    "def test_sort (sort_algorithm):\n",
    "    A = [1, 4, 5, 2, 3]\n",
    "    A_sorted = [1, 2, 3, 4, 5]\n",
    "    sort_algorithm(A)\n",
    "    print (\"OK\" if A == A_sorted else \"Fail\")"
   ]
  },
  {
   "cell_type": "markdown",
   "metadata": {},
   "source": [
    "## *Сортировка вставками `(insert sort)`:*"
   ]
  },
  {
   "cell_type": "code",
   "execution_count": 29,
   "metadata": {
    "collapsed": true
   },
   "outputs": [],
   "source": [
    "def inser_sort (A):\n",
    "   \n",
    "    \"\"\"\n",
    "    Возвращает отсортированный по возрастанию массив.\n",
    "    \n",
    "    Алгоритм:\n",
    "    \n",
    "    Один элемент считается отсорированным.\n",
    "    К нему добовляется следующий элемент.\n",
    "    Происходит сортировка получившегося масива,\n",
    "    то есть новый элемент \n",
    "    срвнивается с элементами имеющегося (отсортированного) массива \n",
    "    и последовательно меняется местами с с его элементами,\n",
    "    пока не достигнет такого, \n",
    "    который меньше него.\n",
    "    \n",
    "    \"\"\"\n",
    "    \n",
    "    print (A)\n",
    "    for top in range (1, len(A)):\n",
    "        k = top\n",
    "        while k > 0 and A[k-1] > A[k]:\n",
    "            A[k], A[k-1] = A[k-1], A[k]\n",
    "            k -= 1\n",
    "            print (A)"
   ]
  },
  {
   "cell_type": "markdown",
   "metadata": {},
   "source": [
    "## *Сортировка методом выбора `(choise sort)`:*"
   ]
  },
  {
   "cell_type": "code",
   "execution_count": 45,
   "metadata": {
    "collapsed": true
   },
   "outputs": [],
   "source": [
    "def choise_sort (A):\n",
    "    \n",
    "    \"\"\"\n",
    "    Возвращает отсортированный по возрастанию массив.\n",
    "    \n",
    "    Алгоритм:\n",
    "    \n",
    "    Берем первый элемент.\n",
    "    Начиная со второго начинаем искать наименьший элемент в массиве.\n",
    "    Получаем окончательно отсортированную часть массива.\n",
    "    Начиная со следующего элемента повторяем алгоритм.\n",
    "    \n",
    "    \"\"\"\n",
    "    print (A)\n",
    "    for top in range (len(A)-1):\n",
    "        for m in range (top+1, len(A)):\n",
    "            if A[m] < A[top]:\n",
    "                A[m], A[top] = A[top], A[m] \n",
    "        print (A)"
   ]
  },
  {
   "cell_type": "markdown",
   "metadata": {},
   "source": [
    "## *Сортировка методом пузырька `(bubble sort)`:*"
   ]
  },
  {
   "cell_type": "code",
   "execution_count": 46,
   "metadata": {
    "collapsed": true
   },
   "outputs": [],
   "source": [
    "def bubble_sort (A):\n",
    "    \n",
    "    \"\"\"\n",
    "    Возвращает отсортированный по возрастанию массив.\n",
    "    \n",
    "    Алгоритм:\n",
    "    \n",
    "    Наибольший элемент \"всплывает в верх\"\n",
    "    \n",
    "    \"\"\"\n",
    "    print (A)\n",
    "    for i in range (1, len(A)):\n",
    "        for m in range (len(A)-i):\n",
    "            if A[m] > A[m+1]:\n",
    "                A[m+1], A[m] = A[m], A[m+1] \n",
    "        print (A)"
   ]
  },
  {
   "cell_type": "code",
   "execution_count": 47,
   "metadata": {},
   "outputs": [
    {
     "name": "stdout",
     "output_type": "stream",
     "text": [
      "[1, 4, 5, 2, 3]\n",
      "[1, 4, 2, 5, 3]\n",
      "[1, 2, 4, 5, 3]\n",
      "[1, 2, 4, 3, 5]\n",
      "[1, 2, 3, 4, 5]\n",
      "OK\n"
     ]
    }
   ],
   "source": [
    "test_sort (inser_sort)"
   ]
  },
  {
   "cell_type": "code",
   "execution_count": 48,
   "metadata": {},
   "outputs": [
    {
     "name": "stdout",
     "output_type": "stream",
     "text": [
      "[1, 4, 5, 2, 3]\n",
      "[1, 4, 5, 2, 3]\n",
      "[1, 2, 5, 4, 3]\n",
      "[1, 2, 3, 5, 4]\n",
      "[1, 2, 3, 4, 5]\n",
      "OK\n"
     ]
    }
   ],
   "source": [
    "test_sort (choise_sort )"
   ]
  },
  {
   "cell_type": "code",
   "execution_count": 50,
   "metadata": {},
   "outputs": [
    {
     "name": "stdout",
     "output_type": "stream",
     "text": [
      "[1, 4, 5, 2, 3]\n",
      "[1, 4, 2, 3, 5]\n",
      "[1, 2, 3, 4, 5]\n",
      "[1, 2, 3, 4, 5]\n",
      "[1, 2, 3, 4, 5]\n",
      "OK\n"
     ]
    }
   ],
   "source": [
    "test_sort (bubble_sort )"
   ]
  }
 ],
 "metadata": {
  "kernelspec": {
   "display_name": "Python 3",
   "language": "python",
   "name": "python3"
  },
  "language_info": {
   "codemirror_mode": {
    "name": "ipython",
    "version": 3
   },
   "file_extension": ".py",
   "mimetype": "text/x-python",
   "name": "python",
   "nbconvert_exporter": "python",
   "pygments_lexer": "ipython3",
   "version": "3.6.1"
  }
 },
 "nbformat": 4,
 "nbformat_minor": 2
}
