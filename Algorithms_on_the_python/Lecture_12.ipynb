{
 "cells": [
  {
   "cell_type": "markdown",
   "metadata": {},
   "source": [
    "## Вычисление расстояние Ливинштейна\n",
    "## (редакционное расстояние)"
   ]
  },
  {
   "cell_type": "markdown",
   "metadata": {},
   "source": [
    "A = \"колокол\"\n",
    "    \n",
    "     123...N\n",
    "\n",
    "B = \"молоко\"\n",
    "     \n",
    "     123..M\n",
    "\n",
    "Ошибки:\n",
    "\n",
    "* перепутали символ;\n",
    "* вставили лишний символ;\n",
    "* потеряли нужный символ;"
   ]
  },
  {
   "cell_type": "markdown",
   "metadata": {},
   "source": [
    "Fij - минимальное расстояние между срезами A[ : i ] и B[ : j ]"
   ]
  },
  {
   "cell_type": "markdown",
   "metadata": {},
   "source": [
    "Ответ Fmn - ответ."
   ]
  },
  {
   "cell_type": "markdown",
   "metadata": {},
   "source": [
    "Если Fij= \n",
    "* F(i-1)(j-1), если Ai==Bj\n",
    "* 1 + min(F(i-1),j, F(i),(j-1), F(i-1),(j-1))"
   ]
  },
  {
   "cell_type": "markdown",
   "metadata": {},
   "source": [
    "Крайний случай:\n",
    "* F0j = j\n",
    "* F0i = i\n",
    "* F00 = 0\n"
   ]
  },
  {
   "cell_type": "code",
   "execution_count": 21,
   "metadata": {},
   "outputs": [],
   "source": [
    "def levenstein (A,B):\n",
    "    F = [ [i+j if i*j==0 else 0 for j in range(len(B)+1)] for i in range(len(A)+1)]\n",
    "    for i in range (1, len(A) + 1):\n",
    "        for j in range(1,len(B)+1):\n",
    "            if A[i-1] == B[j-1]:\n",
    "                F[i][j] = F[i-1][j-1]\n",
    "            else:\n",
    "                F[i][j] = 1 + min(F[i-1][j], F[i][j-1], F[i-1][j-1])\n",
    "        print (F)\n",
    "        print\n",
    "    print (F[len(A)][len(B)],)\n",
    "    return (F[len(A)][len(B)])"
   ]
  },
  {
   "cell_type": "code",
   "execution_count": 27,
   "metadata": {},
   "outputs": [
    {
     "name": "stdout",
     "output_type": "stream",
     "text": [
      "[[0, 1, 2, 3], [1, 1, 2, 3], [2, 0, 0, 0], [3, 0, 0, 0]]\n",
      "[[0, 1, 2, 3], [1, 1, 2, 3], [2, 2, 1, 2], [3, 0, 0, 0]]\n",
      "[[0, 1, 2, 3], [1, 1, 2, 3], [2, 2, 1, 2], [3, 2, 2, 2]]\n",
      "2\n"
     ]
    },
    {
     "data": {
      "text/plain": [
       "2"
      ]
     },
     "execution_count": 27,
     "metadata": {},
     "output_type": "execute_result"
    }
   ],
   "source": [
    "levenstein(\"сок\",\"кол\")"
   ]
  },
  {
   "cell_type": "markdown",
   "metadata": {},
   "source": [
    "## Проверка равенства строк"
   ]
  },
  {
   "cell_type": "code",
   "execution_count": 30,
   "metadata": {},
   "outputs": [],
   "source": [
    "def equal (A,B):\n",
    "    if len(A) != len(B):\n",
    "        return False\n",
    "    for i in range (len(A)):\n",
    "        if A[i] != B[i]:\n",
    "            return False\n",
    "    return True"
   ]
  },
  {
   "cell_type": "code",
   "execution_count": 32,
   "metadata": {},
   "outputs": [
    {
     "data": {
      "text/plain": [
       "False"
      ]
     },
     "execution_count": 32,
     "metadata": {},
     "output_type": "execute_result"
    }
   ],
   "source": [
    "equal (\"сок\", \"кол\")"
   ]
  },
  {
   "cell_type": "code",
   "execution_count": 33,
   "metadata": {},
   "outputs": [
    {
     "data": {
      "text/plain": [
       "True"
      ]
     },
     "execution_count": 33,
     "metadata": {},
     "output_type": "execute_result"
    }
   ],
   "source": [
    "equal (\"сок\", \"сок\")"
   ]
  },
  {
   "cell_type": "markdown",
   "metadata": {},
   "source": [
    "## Поиск подстроки в сторке"
   ]
  },
  {
   "cell_type": "markdown",
   "metadata": {},
   "source": [
    "Наивный способ"
   ]
  },
  {
   "cell_type": "code",
   "execution_count": 34,
   "metadata": {
    "collapsed": true
   },
   "outputs": [],
   "source": [
    "def search_substring(s, sub):\n",
    "    for i in range (0,len(s)-len(sub)):\n",
    "        if equal(s[i:i+len(sub)],sub):\n",
    "            print (i)"
   ]
  },
  {
   "cell_type": "code",
   "execution_count": 36,
   "metadata": {},
   "outputs": [
    {
     "name": "stdout",
     "output_type": "stream",
     "text": [
      "0\n",
      "4\n"
     ]
    }
   ],
   "source": [
    "search_substring(\"acabacavzxcv\",\"aca\")"
   ]
  },
  {
   "cell_type": "markdown",
   "metadata": {},
   "source": [
    "## Префикс функция Пи строки"
   ]
  },
  {
   "cell_type": "markdown",
   "metadata": {},
   "source": [
    "Собственный суффик - суффикс не равный самой строке.\n",
    "\n",
    "Пи s - длинна максимального собственного суффикса, который является префиксом.\n",
    "\n",
    "Пи s i - преффикс функции среза s[ : i ]"
   ]
  },
  {
   "cell_type": "code",
   "execution_count": null,
   "metadata": {
    "collapsed": true
   },
   "outputs": [],
   "source": [
    "Пи = [0 для всех i]\n",
    "для всех i в строке s:\n",
    "    p = Пи(s i-1)\n",
    "    Пока p > 0 и si != s p+1\n",
    "        p=Пи sp\n",
    "    Если si = s+1, то \n",
    "        p += 1\n",
    "    Пи i = p"
   ]
  },
  {
   "cell_type": "code",
   "execution_count": null,
   "metadata": {
    "collapsed": true
   },
   "outputs": [],
   "source": []
  }
 ],
 "metadata": {
  "kernelspec": {
   "display_name": "Python 3",
   "language": "python",
   "name": "python3"
  },
  "language_info": {
   "codemirror_mode": {
    "name": "ipython",
    "version": 3
   },
   "file_extension": ".py",
   "mimetype": "text/x-python",
   "name": "python",
   "nbconvert_exporter": "python",
   "pygments_lexer": "ipython3",
   "version": "3.6.1"
  }
 },
 "nbformat": 4,
 "nbformat_minor": 2
}
