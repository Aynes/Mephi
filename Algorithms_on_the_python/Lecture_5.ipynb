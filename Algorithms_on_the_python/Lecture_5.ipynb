{
 "cells": [
  {
   "cell_type": "markdown",
   "metadata": {},
   "source": [
    "## Массивы (тип list)"
   ]
  },
  {
   "cell_type": "code",
   "execution_count": 1,
   "metadata": {
    "collapsed": true
   },
   "outputs": [],
   "source": [
    "A = [1,2,3,4,5]"
   ]
  },
  {
   "cell_type": "code",
   "execution_count": 7,
   "metadata": {},
   "outputs": [
    {
     "name": "stdout",
     "output_type": "stream",
     "text": [
      "1 <class 'int'>\n",
      "2\n",
      "2 <class 'int'>\n",
      "3\n",
      "3 <class 'int'>\n",
      "4\n",
      "4 <class 'int'>\n",
      "5\n",
      "5 <class 'int'>\n",
      "6\n",
      "[1, 2, 3, 4, 5]\n"
     ]
    }
   ],
   "source": [
    "for x in A:\n",
    "    print (x, type(x))\n",
    "    x += 1\n",
    "    print (x)\n",
    "print (A)"
   ]
  },
  {
   "cell_type": "markdown",
   "metadata": {},
   "source": [
    "## Поэлементный доступ к списку"
   ]
  },
  {
   "cell_type": "code",
   "execution_count": 9,
   "metadata": {},
   "outputs": [
    {
     "name": "stdout",
     "output_type": "stream",
     "text": [
      "[1, 4, 9, 16, 25]\n"
     ]
    }
   ],
   "source": [
    "for k in range(5):\n",
    "    A[k] = A[k]* A[k]\n",
    "print (A)"
   ]
  },
  {
   "cell_type": "markdown",
   "metadata": {},
   "source": [
    "## Создать и заполнить"
   ]
  },
  {
   "cell_type": "code",
   "execution_count": 10,
   "metadata": {
    "collapsed": true
   },
   "outputs": [],
   "source": [
    "A=[0]*100"
   ]
  },
  {
   "cell_type": "code",
   "execution_count": 13,
   "metadata": {
    "collapsed": true
   },
   "outputs": [],
   "source": [
    "top = 0"
   ]
  },
  {
   "cell_type": "code",
   "execution_count": 14,
   "metadata": {},
   "outputs": [
    {
     "name": "stdout",
     "output_type": "stream",
     "text": [
      "1\n",
      "2\n",
      "3\n",
      "4\n",
      "5\n",
      "0\n"
     ]
    }
   ],
   "source": [
    "x=int(input())\n",
    "while x != 0:\n",
    "    A[top]=x\n",
    "    top += 1\n",
    "    x = int(input())"
   ]
  },
  {
   "cell_type": "code",
   "execution_count": 15,
   "metadata": {},
   "outputs": [
    {
     "name": "stdout",
     "output_type": "stream",
     "text": [
      "5\n",
      "4\n",
      "3\n",
      "2\n",
      "1\n"
     ]
    }
   ],
   "source": [
    "for k in range(top-1,-1,-1):\n",
    "    print (A[k])"
   ]
  },
  {
   "cell_type": "markdown",
   "metadata": {},
   "source": [
    "## Копирование массива"
   ]
  },
  {
   "cell_type": "code",
   "execution_count": 1,
   "metadata": {},
   "outputs": [
    {
     "name": "stdout",
     "output_type": "stream",
     "text": [
      "3\n"
     ]
    }
   ],
   "source": [
    "N = int(input())"
   ]
  },
  {
   "cell_type": "code",
   "execution_count": 2,
   "metadata": {
    "collapsed": true
   },
   "outputs": [],
   "source": [
    "A = [0] * N \n",
    "B = [0] * N"
   ]
  },
  {
   "cell_type": "code",
   "execution_count": 3,
   "metadata": {},
   "outputs": [
    {
     "name": "stdout",
     "output_type": "stream",
     "text": [
      "1\n",
      "2\n",
      "3\n"
     ]
    }
   ],
   "source": [
    "for k in range (N):\n",
    "    A[k] = int(input())"
   ]
  },
  {
   "cell_type": "code",
   "execution_count": 4,
   "metadata": {
    "collapsed": true
   },
   "outputs": [],
   "source": [
    "for k in range (N):\n",
    "    B[k] = A[k]"
   ]
  },
  {
   "cell_type": "code",
   "execution_count": 6,
   "metadata": {},
   "outputs": [
    {
     "data": {
      "text/plain": [
       "[1, 2, 3]"
      ]
     },
     "execution_count": 6,
     "metadata": {},
     "output_type": "execute_result"
    }
   ],
   "source": [
    "B"
   ]
  },
  {
   "cell_type": "code",
   "execution_count": 8,
   "metadata": {
    "collapsed": true
   },
   "outputs": [],
   "source": [
    "C = A # второе имя того же самого объекта"
   ]
  },
  {
   "cell_type": "code",
   "execution_count": 12,
   "metadata": {},
   "outputs": [
    {
     "data": {
      "text/plain": [
       "[777, 2, 3]"
      ]
     },
     "execution_count": 12,
     "metadata": {},
     "output_type": "execute_result"
    }
   ],
   "source": [
    "C"
   ]
  },
  {
   "cell_type": "code",
   "execution_count": 10,
   "metadata": {},
   "outputs": [
    {
     "name": "stdout",
     "output_type": "stream",
     "text": [
      "777\n"
     ]
    }
   ],
   "source": [
    "A[0]=777\n",
    "print (C[0])"
   ]
  },
  {
   "cell_type": "code",
   "execution_count": 13,
   "metadata": {
    "collapsed": true
   },
   "outputs": [],
   "source": [
    "C = list (A)"
   ]
  },
  {
   "cell_type": "code",
   "execution_count": 14,
   "metadata": {},
   "outputs": [
    {
     "data": {
      "text/plain": [
       "[777, 2, 3]"
      ]
     },
     "execution_count": 14,
     "metadata": {},
     "output_type": "execute_result"
    }
   ],
   "source": [
    "C"
   ]
  },
  {
   "cell_type": "markdown",
   "metadata": {},
   "source": [
    "## Линейный поиск в массиве"
   ]
  },
  {
   "cell_type": "code",
   "execution_count": 27,
   "metadata": {
    "collapsed": true
   },
   "outputs": [],
   "source": [
    "def array_search(A:list, N:int, x:int):\n",
    "    \"\"\"Осуществляет поиск числа х в массие А\n",
    "       от 0 до N-1 индекса включительно.\n",
    "       Возвращает индекс элемента х в массиве А.\n",
    "       Или -1, если такого нет.\n",
    "       Если в массиве несколько одинаковых элементов равных х,\n",
    "       то вернуть индекс первого по счету.\n",
    "    \"\"\"\n",
    "    for k in range (N):\n",
    "        if A[k] == x:\n",
    "            return k\n",
    "    return -1"
   ]
  },
  {
   "cell_type": "code",
   "execution_count": 28,
   "metadata": {
    "collapsed": true
   },
   "outputs": [],
   "source": [
    "def test_array_search():\n",
    "    A1 = [1, 2, 3, 4, 5]\n",
    "    m = array_search(A1, 5, 8)\n",
    "    if m == -1:\n",
    "        print(\"#test1 - ok\")\n",
    "    else:\n",
    "        print(\"#test1 - fail\")\n",
    "        \n",
    "    A2 = [-1, -2, -3, -4, -5]\n",
    "    m = array_search(A2, 5, -3)\n",
    "    if m == 2:\n",
    "        print(\"#test2 - ok\")\n",
    "    else:\n",
    "        print(\"#test2 - fail\")\n",
    "        \n",
    "    A3 = [10, 20, 30, 10, 10]\n",
    "    m = array_search(A3, 5, 10)\n",
    "    if m == 0:\n",
    "        print(\"#test3 - ok\")\n",
    "    else:\n",
    "        print(\"#test3 - fail\")"
   ]
  },
  {
   "cell_type": "code",
   "execution_count": 29,
   "metadata": {},
   "outputs": [
    {
     "name": "stdout",
     "output_type": "stream",
     "text": [
      "#test1 - ok\n",
      "#test2 - ok\n",
      "#test3 - ok\n"
     ]
    }
   ],
   "source": [
    "test_array_search ()"
   ]
  },
  {
   "cell_type": "markdown",
   "metadata": {},
   "source": [
    "## Инверсия массива"
   ]
  },
  {
   "cell_type": "code",
   "execution_count": 53,
   "metadata": {
    "collapsed": true
   },
   "outputs": [],
   "source": [
    "def invert_array (A:list, N:int):\n",
    "    \"\"\" Обращеие массива (поворот задом-наперед)\n",
    "        в рамках индексов от 0 до N-1.\n",
    "    \"\"\"\n",
    "    for k in range(N // 2):\n",
    "        A[k], A[N-1-k] = A[N-1-k], A[k]"
   ]
  },
  {
   "cell_type": "code",
   "execution_count": 54,
   "metadata": {
    "collapsed": true
   },
   "outputs": [],
   "source": [
    "def test_invert_array():\n",
    "    A1 = [1, 2, 3, 4, 5]\n",
    "    print (A1)\n",
    "    invert_array(A1, 5)\n",
    "    print (A1)\n",
    "    if A1 == [5, 4, 3, 2, 1]:\n",
    "        print (\"#test1 - ok\")\n",
    "    else:\n",
    "        print (\"#test1 - fail\")\n",
    "        \n",
    "    A2 = [0, 0, 0, 0, 0, 0, 0, 10]\n",
    "    print (A2)\n",
    "    invert_array(A2, 8)\n",
    "    print (A2)\n",
    "    if A2 == [10, 0, 0, 0, 0, 0, 0, 0]:\n",
    "        print (\"#test2 - ok\")\n",
    "    else:\n",
    "        print (\"#test2 - fail\")"
   ]
  },
  {
   "cell_type": "code",
   "execution_count": 55,
   "metadata": {},
   "outputs": [
    {
     "name": "stdout",
     "output_type": "stream",
     "text": [
      "[1, 2, 3, 4, 5]\n",
      "[5, 4, 3, 2, 1]\n",
      "#test1 - ok\n",
      "[0, 0, 0, 0, 0, 0, 0, 10]\n",
      "[10, 0, 0, 0, 0, 0, 0, 0]\n",
      "#test2 - ok\n"
     ]
    }
   ],
   "source": [
    "test_invert_array()"
   ]
  },
  {
   "cell_type": "markdown",
   "metadata": {},
   "source": [
    "## Циклический сдвиг в массиве"
   ]
  },
  {
   "cell_type": "markdown",
   "metadata": {},
   "source": [
    "Циклический сдвиг бывает влево и вправо.\n",
    "* влево\n",
    "\n",
    "01234 -> 12340\n",
    "* вправо\n",
    "\n",
    "01234 -> 40123"
   ]
  },
  {
   "cell_type": "markdown",
   "metadata": {},
   "source": [
    "Сдвиг влево:"
   ]
  },
  {
   "cell_type": "code",
   "execution_count": 65,
   "metadata": {
    "collapsed": true
   },
   "outputs": [],
   "source": [
    "A = [0, 1, 2, 3, 4]\n",
    "tmp = A[0]"
   ]
  },
  {
   "cell_type": "code",
   "execution_count": 66,
   "metadata": {
    "collapsed": true
   },
   "outputs": [],
   "source": [
    "for k in range (len(A)-1): #N-1\n",
    "    A[k] = A[k+1]\n",
    "A[len(A)-1]=tmp"
   ]
  },
  {
   "cell_type": "code",
   "execution_count": 67,
   "metadata": {},
   "outputs": [
    {
     "data": {
      "text/plain": [
       "[1, 2, 3, 4, 0]"
      ]
     },
     "execution_count": 67,
     "metadata": {},
     "output_type": "execute_result"
    }
   ],
   "source": [
    "A"
   ]
  },
  {
   "cell_type": "markdown",
   "metadata": {},
   "source": [
    "Сдвиг вправо:"
   ]
  },
  {
   "cell_type": "code",
   "execution_count": 68,
   "metadata": {
    "collapsed": true
   },
   "outputs": [],
   "source": [
    "A = [0, 1, 2, 3, 4]\n",
    "tmp = A[4]"
   ]
  },
  {
   "cell_type": "code",
   "execution_count": 69,
   "metadata": {
    "collapsed": true
   },
   "outputs": [],
   "source": [
    "for k in range (len(A)-2,-1,-1):\n",
    "    A[k+1] = A[k]\n",
    "A[0] = tmp"
   ]
  },
  {
   "cell_type": "code",
   "execution_count": 71,
   "metadata": {},
   "outputs": [
    {
     "data": {
      "text/plain": [
       "[4, 0, 1, 2, 3]"
      ]
     },
     "execution_count": 71,
     "metadata": {},
     "output_type": "execute_result"
    }
   ],
   "source": [
    "A"
   ]
  },
  {
   "cell_type": "markdown",
   "metadata": {},
   "source": [
    "## Решето Эратосфена"
   ]
  },
  {
   "cell_type": "code",
   "execution_count": 75,
   "metadata": {},
   "outputs": [
    {
     "name": "stdout",
     "output_type": "stream",
     "text": [
      "0 - Простое\n",
      "1 - Простое\n",
      "2 - Простое\n",
      "3 - Простое\n",
      "4 - Составное\n",
      "5 - Простое\n",
      "6 - Составное\n",
      "7 - Простое\n",
      "8 - Составное\n",
      "9 - Составное\n",
      "10 - Составное\n",
      "11 - Простое\n",
      "12 - Составное\n",
      "13 - Простое\n",
      "14 - Составное\n",
      "15 - Составное\n",
      "16 - Составное\n",
      "17 - Простое\n",
      "18 - Составное\n",
      "19 - Простое\n"
     ]
    }
   ],
   "source": [
    "N=20\n",
    "A=[True]*N\n",
    "##A[0]=A[1]=True\n",
    "for k in range (2,N):\n",
    "    if A[k]:\n",
    "        for m in range(2*k,N,k):\n",
    "            A[m]=False\n",
    "for k in range (N):\n",
    "    print(k,'-','Простое' if A[k] else \"Составное\")"
   ]
  },
  {
   "cell_type": "code",
   "execution_count": 4,
   "metadata": {},
   "outputs": [
    {
     "name": "stdout",
     "output_type": "stream",
     "text": [
      "3\n",
      "2\n",
      "1\n",
      "0\n"
     ]
    }
   ],
   "source": [
    "for i in (range(5-2,-1,-1)):\n",
    "    print (i)"
   ]
  }
 ],
 "metadata": {
  "kernelspec": {
   "display_name": "Python 3",
   "language": "python",
   "name": "python3"
  },
  "language_info": {
   "codemirror_mode": {
    "name": "ipython",
    "version": 3
   },
   "file_extension": ".py",
   "mimetype": "text/x-python",
   "name": "python",
   "nbconvert_exporter": "python",
   "pygments_lexer": "ipython3",
   "version": "3.6.1"
  }
 },
 "nbformat": 4,
 "nbformat_minor": 2
}
