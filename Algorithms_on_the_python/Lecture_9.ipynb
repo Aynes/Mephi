{
 "cells": [
  {
   "cell_type": "markdown",
   "metadata": {},
   "source": [
    "### Cортировка слиянием"
   ]
  },
  {
   "cell_type": "markdown",
   "metadata": {},
   "source": [
    "#### Слияние отсортированных массивов в один"
   ]
  },
  {
   "cell_type": "code",
   "execution_count": 33,
   "metadata": {
    "collapsed": true
   },
   "outputs": [],
   "source": [
    "def merge (A:list, B:list):\n",
    "    \n",
    "    \"\"\" Возвращает отсортированный список из двух данных списков. \"\"\"\n",
    "    \n",
    "    C=[0]*(len(A)+len(B))\n",
    "    i = k = n = 0\n",
    "    while i < len(A) and k < len(B):\n",
    "        if A[i] <= B[k]:\n",
    "            C[n] = A[i]\n",
    "            i += 1\n",
    "            n += 1\n",
    "        else:\n",
    "            C[n] = B[k]\n",
    "            k += 1\n",
    "            n += 1\n",
    "    while i < len(A):\n",
    "        C[n] = A[i];\n",
    "        i += 1\n",
    "        n += 1\n",
    "    while k < len(B):\n",
    "        C[n] = B[k];\n",
    "        k += 1\n",
    "        n += 1\n",
    "    return C"
   ]
  },
  {
   "cell_type": "code",
   "execution_count": 34,
   "metadata": {},
   "outputs": [
    {
     "data": {
      "text/plain": [
       "[1, 2, 3, 4, 4, 5, 6, 7]"
      ]
     },
     "execution_count": 34,
     "metadata": {},
     "output_type": "execute_result"
    }
   ],
   "source": [
    "A=[1,3,4,6]\n",
    "B=[2,4,5,7]\n",
    "merge(A,B)"
   ]
  },
  {
   "cell_type": "markdown",
   "metadata": {},
   "source": [
    "Сортировка называется ***устойчивой***, если она не меняет порядок равных элементов."
   ]
  },
  {
   "cell_type": "markdown",
   "metadata": {},
   "source": [
    "### Рекурентная функция "
   ]
  },
  {
   "cell_type": "code",
   "execution_count": 42,
   "metadata": {
    "collapsed": true
   },
   "outputs": [],
   "source": [
    "def merge_sort (A):\n",
    "    \n",
    "    \"\"\" Сортирует массив A методом слияния. \"\"\"\n",
    "    \n",
    "    if len(A) <= 1:\n",
    "        return\n",
    "    middel = len(A) // 2\n",
    "    L = [A[i] for i in range(0, middel)]\n",
    "    R = [A[i] for i in range(middel, len(A))]\n",
    "    merge_sort(L)\n",
    "    merge_sort(R)\n",
    "    C = merge(L,R)\n",
    "    for i in range(len(A)):\n",
    "        A[i]=C[i]"
   ]
  },
  {
   "cell_type": "code",
   "execution_count": 41,
   "metadata": {},
   "outputs": [
    {
     "data": {
      "text/plain": [
       "[1, 2, 2, 3, 4, 5, 5, 6, 7]"
      ]
     },
     "execution_count": 41,
     "metadata": {},
     "output_type": "execute_result"
    }
   ],
   "source": [
    "B=[1, 2, 4, 5, 3, 5, 6, 7, 2]\n",
    "merge_sort (B)\n",
    "B"
   ]
  },
  {
   "cell_type": "markdown",
   "metadata": {},
   "source": [
    "## Сортировка Тони Хоара *(QuickSort)*"
   ]
  },
  {
   "cell_type": "code",
   "execution_count": 8,
   "metadata": {
    "collapsed": true
   },
   "outputs": [],
   "source": [
    "def hoar_sort(A):\n",
    "    \n",
    "    \"\"\" Возвращает отсортированный методом Хоара список A. \"\"\"\n",
    "    if len(A) <= 1:\n",
    "        return\n",
    "    barrier = A[0] # L=M=R=[] нельзя, так как три имени ссылаются на одн объект\n",
    "    L = []\n",
    "    M = []\n",
    "    R = []\n",
    "    for x in A:\n",
    "        if x < barrier:\n",
    "            L.append(x)\n",
    "        elif x == barrier:\n",
    "            M.append(x)\n",
    "        else:\n",
    "            R.append(x)\n",
    "    k = 0\n",
    "    hoar_sort(L)\n",
    "    hoar_sort(R)\n",
    "    for x in L+M+R:\n",
    "        A[k] = x\n",
    "        k += 1"
   ]
  },
  {
   "cell_type": "code",
   "execution_count": 9,
   "metadata": {},
   "outputs": [
    {
     "data": {
      "text/plain": [
       "[1, 2, 2, 3, 4, 5, 5, 6, 7]"
      ]
     },
     "execution_count": 9,
     "metadata": {},
     "output_type": "execute_result"
    }
   ],
   "source": [
    "B=[1, 2, 4, 5, 3, 5, 6, 7, 2]\n",
    "hoar_sort(B)\n",
    "B"
   ]
  },
  {
   "cell_type": "markdown",
   "metadata": {},
   "source": [
    "## Проверка упорядоченности массива"
   ]
  },
  {
   "cell_type": "code",
   "execution_count": 10,
   "metadata": {
    "collapsed": true
   },
   "outputs": [],
   "source": [
    "def check_sorted(A,ascending=True): \n",
    "    \n",
    "    \"\"\" Функция возвращает True если список отсортирован, иначе False.\n",
    "        По умолчанию список проверяется на упорядоченность по возрастанию.\n",
    "        Для проверки упорядоченности по убыванию необходимо\n",
    "        передать функции второй параметр как False.\n",
    "    \"\"\"\n",
    "    \n",
    "    flag = True\n",
    "    s= 2*int(ascending)-1; #int(True)=1, int(false)=0 -> s=1 если ascending True, s=-1 если ascending False \n",
    "    N = len(A)\n",
    "    for i in range(0,N-1):\n",
    "        if s*A[i] > s*A[i+1]:\n",
    "            flag = False\n",
    "            break\n",
    "    return flag"
   ]
  },
  {
   "cell_type": "code",
   "execution_count": 11,
   "metadata": {},
   "outputs": [
    {
     "data": {
      "text/plain": [
       "False"
      ]
     },
     "execution_count": 11,
     "metadata": {},
     "output_type": "execute_result"
    }
   ],
   "source": [
    "B=[1, 2, 4, 5, 3, 5, 6, 7, 2]\n",
    "check_sorted(B)"
   ]
  },
  {
   "cell_type": "markdown",
   "metadata": {},
   "source": [
    "## Реализация бинарного поиска в массиве"
   ]
  },
  {
   "cell_type": "markdown",
   "metadata": {},
   "source": [
    "Требование: массив должен быть отсортирован"
   ]
  },
  {
   "cell_type": "code",
   "execution_count": 20,
   "metadata": {
    "collapsed": true
   },
   "outputs": [],
   "source": [
    "def left_bourd (A,key):\n",
    "    \n",
    "    \"\"\" Возвращает индекс последнего элемента меньшего key. \"\"\"\n",
    "    \n",
    "    left = -1 \n",
    "    right = len(A)\n",
    "    while right - left > 1:\n",
    "        middel = (left + right) // 2\n",
    "        if A[middel] < key:\n",
    "            left = middel\n",
    "        else:\n",
    "            right = middel\n",
    "    return left"
   ]
  },
  {
   "cell_type": "code",
   "execution_count": 21,
   "metadata": {
    "collapsed": true
   },
   "outputs": [],
   "source": [
    "def right_bourd (A,key):\n",
    "    \n",
    "    \"\"\" Возвращает индекс первого элемента большего key. \"\"\"\n",
    "    \n",
    "    left = -1 \n",
    "    right = len(A)\n",
    "    while right - left > 1:\n",
    "        middel = (left + right) // 2\n",
    "        if A[middel] <= key:\n",
    "            left = middel\n",
    "        else:\n",
    "            right = middel\n",
    "    return right"
   ]
  },
  {
   "cell_type": "code",
   "execution_count": 37,
   "metadata": {},
   "outputs": [
    {
     "name": "stdout",
     "output_type": "stream",
     "text": [
      "[1, 2, 4, 5, 5, 6, 7]\n",
      "2 5\n"
     ]
    }
   ],
   "source": [
    "B=[1, 2, 4, 5, 5, 6, 7]\n",
    "print (B)\n",
    "print(left_bourd(B,5) ,right_bourd(B,5))"
   ]
  },
  {
   "cell_type": "code",
   "execution_count": null,
   "metadata": {
    "collapsed": true
   },
   "outputs": [],
   "source": []
  },
  {
   "cell_type": "code",
   "execution_count": null,
   "metadata": {
    "collapsed": true
   },
   "outputs": [],
   "source": []
  },
  {
   "cell_type": "code",
   "execution_count": null,
   "metadata": {
    "collapsed": true
   },
   "outputs": [],
   "source": []
  },
  {
   "cell_type": "code",
   "execution_count": null,
   "metadata": {
    "collapsed": true
   },
   "outputs": [],
   "source": []
  },
  {
   "cell_type": "code",
   "execution_count": null,
   "metadata": {
    "collapsed": true
   },
   "outputs": [],
   "source": []
  }
 ],
 "metadata": {
  "kernelspec": {
   "display_name": "Python 3",
   "language": "python",
   "name": "python3"
  },
  "language_info": {
   "codemirror_mode": {
    "name": "ipython",
    "version": 3
   },
   "file_extension": ".py",
   "mimetype": "text/x-python",
   "name": "python",
   "nbconvert_exporter": "python",
   "pygments_lexer": "ipython3",
   "version": "3.6.1"
  }
 },
 "nbformat": 4,
 "nbformat_minor": 2
}
