{
 "cells": [
  {
   "cell_type": "markdown",
   "metadata": {},
   "source": [
    "## Динамическое программирование"
   ]
  },
  {
   "cell_type": "markdown",
   "metadata": {},
   "source": [
    "Числа фибоначи"
   ]
  },
  {
   "cell_type": "code",
   "execution_count": 1,
   "metadata": {
    "collapsed": true
   },
   "outputs": [],
   "source": [
    "def fib (n):\n",
    "    if n <= 1:\n",
    "        return n\n",
    "    return fib(n-1)+fib(n-2)"
   ]
  },
  {
   "cell_type": "code",
   "execution_count": 18,
   "metadata": {},
   "outputs": [
    {
     "name": "stdout",
     "output_type": "stream",
     "text": [
      "0, 1, 1, 2, 3, 5, 8, 13, 21, 34, 55, 89, 144, 233, 377, 610, 987, 1597, 2584, "
     ]
    }
   ],
   "source": [
    "for i in range(19):\n",
    "    print (fib (i), end=\", \")"
   ]
  },
  {
   "cell_type": "markdown",
   "metadata": {},
   "source": [
    "В данном алгоритме рекурсивный подсчет производится по фибоначиевому дереву, что приводит к большому увеличению времени выполнения."
   ]
  },
  {
   "cell_type": "code",
   "execution_count": 27,
   "metadata": {
    "collapsed": true
   },
   "outputs": [],
   "source": [
    "def chislo_fibonaci (n):\n",
    "    fib_array = [0,1]+[0]*(n-1)\n",
    "    for i in range(2,n+1):\n",
    "        fib_array[i]=fib_array[i-1]+fib_array[i-2]\n",
    "    return fib_array[n-1]"
   ]
  },
  {
   "cell_type": "code",
   "execution_count": 35,
   "metadata": {},
   "outputs": [
    {
     "data": {
      "text/plain": [
       "0"
      ]
     },
     "execution_count": 35,
     "metadata": {},
     "output_type": "execute_result"
    }
   ],
   "source": [
    "chislo_fibonaci(1)"
   ]
  },
  {
   "cell_type": "markdown",
   "metadata": {},
   "source": [
    "*` Динамическое программирование - это вывернутая рекурсия`*"
   ]
  },
  {
   "cell_type": "markdown",
   "metadata": {},
   "source": [
    "Слева на права ->"
   ]
  },
  {
   "cell_type": "markdown",
   "metadata": {},
   "source": [
    "### Задача про кузнейчика"
   ]
  },
  {
   "cell_type": "markdown",
   "metadata": {},
   "source": [
    "Сколько различных траекторий из 1 в N при движении +1 или +2?"
   ]
  },
  {
   "cell_type": "code",
   "execution_count": 5,
   "metadata": {},
   "outputs": [],
   "source": [
    "def traj_num (n):\n",
    "    K=[0,1]+[0]*(n-1)\n",
    "    for i in range(2,n+1):\n",
    "        K[i]=K[i-2]+K[i-1]\n",
    "    print (K)\n",
    "    return K[n]"
   ]
  },
  {
   "cell_type": "code",
   "execution_count": 6,
   "metadata": {},
   "outputs": [
    {
     "name": "stdout",
     "output_type": "stream",
     "text": [
      "[0, 1, 1, 2, 3, 5, 8, 13, 21]\n"
     ]
    },
    {
     "data": {
      "text/plain": [
       "21"
      ]
     },
     "execution_count": 6,
     "metadata": {},
     "output_type": "execute_result"
    }
   ],
   "source": [
    "traj_num(8)"
   ]
  },
  {
   "cell_type": "markdown",
   "metadata": {},
   "source": [
    "Запретим некоторые клетки\n",
    "Шаги:\n",
    "* +1\n",
    "* +2\n",
    "* +3"
   ]
  },
  {
   "cell_type": "code",
   "execution_count": 9,
   "metadata": {
    "collapsed": true
   },
   "outputs": [],
   "source": [
    "def count_trajectoris (N, allowed:list):\n",
    "    K=[0,1,int(allowed[2])]+[0]*(N-3)\n",
    "    for i in range(3,N):\n",
    "        if allowed[i]:\n",
    "            K[i]=K[i-1]+K[i-2]+K[i-3]\n",
    "    print (K)\n",
    "    return K[N-1]"
   ]
  },
  {
   "cell_type": "code",
   "execution_count": 11,
   "metadata": {},
   "outputs": [
    {
     "name": "stdout",
     "output_type": "stream",
     "text": [
      "[0, 1, 0, 1, 2, 3, 6, 0, 9, 15]\n"
     ]
    },
    {
     "data": {
      "text/plain": [
       "15"
      ]
     },
     "execution_count": 11,
     "metadata": {},
     "output_type": "execute_result"
    }
   ],
   "source": [
    "count_trajectoris (10, [True,True,False,True,True,True,True,False,True,True])"
   ]
  },
  {
   "cell_type": "markdown",
   "metadata": {},
   "source": [
    "## Минимальная стоимость достижения клетки N"
   ]
  },
  {
   "cell_type": "markdown",
   "metadata": {},
   "source": [
    "`price[i]` - цена за посещение клетки `i`."
   ]
  },
  {
   "cell_type": "markdown",
   "metadata": {},
   "source": [
    "`c[i]` - cost, минимальная стоимость достижения клетки `i`."
   ]
  },
  {
   "cell_type": "code",
   "execution_count": 66,
   "metadata": {
    "collapsed": true
   },
   "outputs": [],
   "source": [
    "def count_min_cost(N,price:list):\n",
    "    c=[float(\"-inf\"),price[1],price[1]+price[2]]+[0]*[N-2]\n",
    "    for i in range(3,N+1):\n",
    "        c[i] = price[i]+min(c[i-1],c[i-2])\n",
    "    return c[N]"
   ]
  },
  {
   "cell_type": "markdown",
   "metadata": {},
   "source": [
    "## Двумерное динамическое программирование"
   ]
  },
  {
   "cell_type": "markdown",
   "metadata": {},
   "source": [
    "Задание двумерного массива:"
   ]
  },
  {
   "cell_type": "code",
   "execution_count": 68,
   "metadata": {
    "collapsed": true
   },
   "outputs": [],
   "source": [
    "M = 3\n",
    "N = 4\n",
    "A = [[0]*M for i in range(N)]"
   ]
  },
  {
   "cell_type": "code",
   "execution_count": 70,
   "metadata": {},
   "outputs": [
    {
     "data": {
      "text/plain": [
       "[[0, 0, 0], [0, 0, 0], [0, 0, 0], [0, 0, 0]]"
      ]
     },
     "execution_count": 70,
     "metadata": {},
     "output_type": "execute_result"
    }
   ],
   "source": [
    "A"
   ]
  },
  {
   "cell_type": "markdown",
   "metadata": {},
   "source": [
    "### Задача о короле"
   ]
  },
  {
   "cell_type": "markdown",
   "metadata": {},
   "source": [
    "Король может ходить только вниз и влево.\n",
    "Сколько возможных путей в клетку K*ij*?"
   ]
  },
  {
   "cell_type": "code",
   "execution_count": 131,
   "metadata": {
    "collapsed": true
   },
   "outputs": [],
   "source": [
    "def count_King_way (i,j):\n",
    "    \n",
    "    \"\"\" Возвращает количиство путей в ячейку Kij \"\"\"\n",
    "    \n",
    "    A = [[0]*(j+1) for i in range(i+1)]\n",
    "    A[1][1] = 1\n",
    "    \n",
    "    for u in range(1,j+1):\n",
    "        for v in range(1,i+1):\n",
    "            if u == v == 1:\n",
    "                continue\n",
    "            A[u][v] = A[u-1][v] + A[u][v-1]\n",
    "        #A[(i-1),j]+A[i,(j-1)]\n",
    "    \n",
    "    for i in range(len(A)):\n",
    "        print (A[i])\n",
    "        \n",
    "    return A[i][j]"
   ]
  },
  {
   "cell_type": "code",
   "execution_count": 118,
   "metadata": {
    "collapsed": true
   },
   "outputs": [],
   "source": [
    "def test_king (i,j): #3,3\n",
    "    if count_King_way(i,j) == 6:\n",
    "        return True\n",
    "    return Folse"
   ]
  },
  {
   "cell_type": "code",
   "execution_count": 128,
   "metadata": {},
   "outputs": [
    {
     "name": "stdout",
     "output_type": "stream",
     "text": [
      "[0, 0, 0, 0, 0, 0, 0]\n",
      "[0, 1, 1, 1, 1, 1, 1]\n",
      "[0, 1, 2, 3, 4, 5, 6]\n",
      "[0, 1, 3, 6, 10, 15, 21]\n",
      "[0, 1, 4, 10, 20, 35, 56]\n",
      "[0, 1, 5, 15, 35, 70, 126]\n",
      "[0, 1, 6, 21, 56, 126, 252]\n"
     ]
    },
    {
     "data": {
      "text/plain": [
       "252"
      ]
     },
     "execution_count": 128,
     "metadata": {},
     "output_type": "execute_result"
    }
   ],
   "source": [
    "count_King_way (6,6)"
   ]
  },
  {
   "cell_type": "code",
   "execution_count": 123,
   "metadata": {},
   "outputs": [
    {
     "name": "stdout",
     "output_type": "stream",
     "text": [
      "[[0, 0, 0, 0], [0, 1, 1, 1], [0, 1, 2, 3], [0, 1, 3, 6]]\n"
     ]
    },
    {
     "data": {
      "text/plain": [
       "True"
      ]
     },
     "execution_count": 123,
     "metadata": {},
     "output_type": "execute_result"
    }
   ],
   "source": [
    "test_king (3,3)"
   ]
  },
  {
   "cell_type": "code",
   "execution_count": null,
   "metadata": {
    "collapsed": true
   },
   "outputs": [],
   "source": []
  }
 ],
 "metadata": {
  "kernelspec": {
   "display_name": "Python 3",
   "language": "python",
   "name": "python3"
  },
  "language_info": {
   "codemirror_mode": {
    "name": "ipython",
    "version": 3
   },
   "file_extension": ".py",
   "mimetype": "text/x-python",
   "name": "python",
   "nbconvert_exporter": "python",
   "pygments_lexer": "ipython3",
   "version": "3.6.1"
  }
 },
 "nbformat": 4,
 "nbformat_minor": 2
}
