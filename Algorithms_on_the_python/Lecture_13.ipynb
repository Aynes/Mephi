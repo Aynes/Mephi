{
 "cells": [
  {
   "cell_type": "markdown",
   "metadata": {},
   "source": [
    "## Stack или очередь LIFO"
   ]
  },
  {
   "cell_type": "markdown",
   "metadata": {},
   "source": [
    "push -> положить\n",
    "\n",
    "<- pop взять\n",
    "\n",
    "size - узнать, сколько всего сейчас;\n",
    "\n",
    "top - верхний элемент\n",
    "\n",
    "is_empty - пуст ли стек."
   ]
  },
  {
   "cell_type": "markdown",
   "metadata": {},
   "source": [
    "### Use case"
   ]
  },
  {
   "cell_type": "markdown",
   "metadata": {},
   "source": [
    "\\>>> clear()\n",
    "\n",
    "\n",
    "\\>>> push(1)\n",
    "\n",
    "\\>>> push(2)\n",
    "\n",
    "\\>>> push(3)\n",
    "\n",
    "\n",
    "\\>>> pop()\n",
    "\n",
    "3\n",
    "\n",
    "\\>>> pop ()\n",
    "\n",
    "2\n",
    "\n",
    "\\>>> pop ()\n",
    "\n",
    "1\n",
    "\n",
    "\\>>> is_empty ()\n",
    "\n",
    "True"
   ]
  },
  {
   "cell_type": "markdown",
   "metadata": {},
   "source": [
    "### Реализация"
   ]
  },
  {
   "cell_type": "code",
   "execution_count": 59,
   "metadata": {},
   "outputs": [
    {
     "name": "stdout",
     "output_type": "stream",
     "text": [
      "**********************************************************************\n",
      "File \"__main__\", line 6, in __main__.is_braces_sequence_correct\n",
      "Failed example:\n",
      "    is_braces_sequence_correct(\"(())[()]\")\n",
      "Exception raised:\n",
      "    Traceback (most recent call last):\n",
      "      File \"C:\\Users\\Senya\\Anaconda3\\lib\\doctest.py\", line 1330, in __run\n",
      "        compileflags, 1), test.globs)\n",
      "      File \"<doctest __main__.is_braces_sequence_correct[0]>\", line 1, in <module>\n",
      "        is_braces_sequence_correct(\"(())[()]\")\n",
      "      File \"<ipython-input-58-7983feb54c9d>\", line 34, in is_braces_sequence_correct\n",
      "        return _stack.is_empty()\n",
      "    AttributeError: 'list' object has no attribute 'is_empty'\n",
      "**********************************************************************\n",
      "File \"__main__\", line 8, in __main__.is_braces_sequence_correct\n",
      "Failed example:\n",
      "    is_braces_sequence_correct(\"([)]\")\n",
      "Exception raised:\n",
      "    Traceback (most recent call last):\n",
      "      File \"C:\\Users\\Senya\\Anaconda3\\lib\\doctest.py\", line 1330, in __run\n",
      "        compileflags, 1), test.globs)\n",
      "      File \"<doctest __main__.is_braces_sequence_correct[1]>\", line 1, in <module>\n",
      "        is_braces_sequence_correct(\"([)]\")\n",
      "      File \"<ipython-input-58-7983feb54c9d>\", line 34, in is_braces_sequence_correct\n",
      "        return _stack.is_empty()\n",
      "    AttributeError: 'list' object has no attribute 'is_empty'\n",
      "**********************************************************************\n",
      "File \"__main__\", line 10, in __main__.is_braces_sequence_correct\n",
      "Failed example:\n",
      "    is_braces_sequence_correct(\"(\")\n",
      "Exception raised:\n",
      "    Traceback (most recent call last):\n",
      "      File \"C:\\Users\\Senya\\Anaconda3\\lib\\doctest.py\", line 1330, in __run\n",
      "        compileflags, 1), test.globs)\n",
      "      File \"<doctest __main__.is_braces_sequence_correct[2]>\", line 1, in <module>\n",
      "        is_braces_sequence_correct(\"(\")\n",
      "      File \"<ipython-input-58-7983feb54c9d>\", line 34, in is_braces_sequence_correct\n",
      "        return _stack.is_empty()\n",
      "    AttributeError: 'list' object has no attribute 'is_empty'\n",
      "**********************************************************************\n",
      "File \"__main__\", line 12, in __main__.is_braces_sequence_correct\n",
      "Failed example:\n",
      "    is_braces_sequence_correct(\"]\")\n",
      "Exception raised:\n",
      "    Traceback (most recent call last):\n",
      "      File \"C:\\Users\\Senya\\Anaconda3\\lib\\doctest.py\", line 1330, in __run\n",
      "        compileflags, 1), test.globs)\n",
      "      File \"<doctest __main__.is_braces_sequence_correct[3]>\", line 1, in <module>\n",
      "        is_braces_sequence_correct(\"]\")\n",
      "      File \"<ipython-input-58-7983feb54c9d>\", line 24, in is_braces_sequence_correct\n",
      "        if _stack.is_empty():\n",
      "    AttributeError: 'list' object has no attribute 'is_empty'\n",
      "**********************************************************************\n",
      "1 items had failures:\n",
      "   4 of   4 in __main__.is_braces_sequence_correct\n",
      "***Test Failed*** 4 failures.\n"
     ]
    }
   ],
   "source": [
    "\"\"\"\n",
    "Модуль, описывающий  структуру данных - стек.\n",
    "\n",
    ">>> clear()\n",
    ">>> is_empty ()\n",
    "True\n",
    ">>> push(1)\n",
    ">>> push(2)\n",
    ">>> push(3)\n",
    ">>> is_empty ()\n",
    "False\n",
    ">>> pop()\n",
    "3\n",
    ">>> pop ()\n",
    "2\n",
    ">>> pop ()\n",
    "1\n",
    ">>> is_empty ()\n",
    "True\n",
    "\"\"\"\n",
    "\n",
    "_stack = []\n",
    "\n",
    "def push(x):\n",
    "    '''\n",
    "    Добовляет элемт х в конец стека\n",
    "    \n",
    "    >>> size = len(_stack)\n",
    "    >>> push(5)\n",
    "    >>> len(_stack) - size\n",
    "    1\n",
    "    >>> _stack[-1]\n",
    "    5\n",
    "    '''\n",
    "    _stack.append(x)\n",
    "    \n",
    "def pop():\n",
    "    x=_stack.pop()\n",
    "    return x\n",
    "\n",
    "def clear():\n",
    "    _stack.clear()\n",
    "    \n",
    "def is_empty():\n",
    "    return len(_stack) == 0\n",
    "\n",
    "\n",
    "if __name__==\"__main__\":\n",
    "    import doctest\n",
    "    doctest.testmod()"
   ]
  },
  {
   "cell_type": "markdown",
   "metadata": {},
   "source": [
    "##  Проверка корректности скобочной последовательности"
   ]
  },
  {
   "cell_type": "markdown",
   "metadata": {},
   "source": [
    " Для очередной скобки:"
   ]
  },
  {
   "cell_type": "markdown",
   "metadata": {},
   "source": [
    "* если она открывающаяся, то в стек ее."
   ]
  },
  {
   "cell_type": "markdown",
   "metadata": {},
   "source": [
    "* иначе: если стек пуст - некорректно\n",
    "* иначе: х = скобка из стека pop()"
   ]
  },
  {
   "cell_type": "markdown",
   "metadata": {},
   "source": [
    "* Если х не соответствует Y nj - выход\n"
   ]
  },
  {
   "cell_type": "code",
   "execution_count": 39,
   "metadata": {},
   "outputs": [
    {
     "data": {
      "text/plain": [
       "'Для очередной у скобки:\\n    если она -\" открывающаяся:\\n        то в стек ее\\n    иначе:\\n        если стек пуст:\\n            то - все, не корректно\\n        иначе:\\n            х = pop()\\n        если х не соответствует у:\\n            то все - выход\\nесли стек пуст:\\n    то корректно\\nиначе - нет.'"
      ]
     },
     "execution_count": 39,
     "metadata": {},
     "output_type": "execute_result"
    }
   ],
   "source": [
    "\"\"\"Для очередной у скобки:\n",
    "    если она -\" открывающаяся:\n",
    "        то в стек ее\n",
    "    иначе:\n",
    "        если стек пуст:\n",
    "            то - все, не корректно\n",
    "        иначе:\n",
    "            х = pop()\n",
    "        если х не соответствует у:\n",
    "            то все - выход\n",
    "если стек пуст:\n",
    "    то корректно\n",
    "иначе - нет.\"\"\""
   ]
  },
  {
   "cell_type": "code",
   "execution_count": null,
   "metadata": {
    "collapsed": true
   },
   "outputs": [],
   "source": []
  },
  {
   "cell_type": "code",
   "execution_count": 72,
   "metadata": {},
   "outputs": [],
   "source": [
    "def is_braces_sequence_correct(s):\n",
    "    \"\"\"\"\n",
    "    Полверяет корректность скобочной последовательности из \n",
    "    круглых и квадратных скобок (),[].\n",
    "    \n",
    "    >>> is_braces_sequence_correct(\"(([()]))[]\")\n",
    "    True\n",
    "    >>> is_braces_sequence_correct(\"([)]\")\n",
    "    False\n",
    "    >>> is_braces_sequence_correct(\"(\")\n",
    "    False\n",
    "    >>> is_braces_sequence_correct(\"]\")\n",
    "    False\n",
    "    \n",
    "    \"\"\"\n",
    "   \n",
    "    for brace in s:\n",
    "        if brace not in \"()[]\":\n",
    "            continue\n",
    "        if brace in \"([\":\n",
    "            push(brace)\n",
    "        else:\n",
    "            assert brace in \")]\", \"Ожидалась закрывающая скобка:\" + str(brace)\n",
    "            if is_empty():\n",
    "                return False\n",
    "            left = pop()\n",
    "            assert left in \"([\", \"Ожидалась закрывающая скобка:\" + str(brace)\n",
    "            if left == \"(\":\n",
    "                right = \")\"\n",
    "            elif left == \"[\":\n",
    "                right = \"]\"\n",
    "            if right != brace:\n",
    "                return False\n",
    "    return is_empty()"
   ]
  },
  {
   "cell_type": "code",
   "execution_count": 75,
   "metadata": {},
   "outputs": [],
   "source": [
    "if __name__==\"__main__\":\n",
    "    import doctest\n",
    "    doctest.testmod()"
   ]
  },
  {
   "cell_type": "markdown",
   "metadata": {},
   "source": [
    "## Обратная польская нотация (запись)"
   ]
  },
  {
   "cell_type": "markdown",
   "metadata": {},
   "source": [
    "Алгоритм вычисления выражений в постфиксной нотации (записи)."
   ]
  },
  {
   "cell_type": "code",
   "execution_count": 76,
   "metadata": {},
   "outputs": [
    {
     "data": {
      "text/plain": [
       "'\\nДля каждого токина\\nесли токен - число:\\n    то кладем его в стек\\nиначе - он операция:\\n    y=рор()\\n    x=рор()\\n    вычислям z=x операция у\\n    push(z)\\nresult=pop()\\n'"
      ]
     },
     "execution_count": 76,
     "metadata": {},
     "output_type": "execute_result"
    }
   ],
   "source": [
    "\n",
    "\"\"\"\n",
    "Для каждого токина\n",
    "если токен - число:\n",
    "    то кладем его в стек\n",
    "иначе - он операция:\n",
    "    y=рор()\n",
    "    x=рор()\n",
    "    вычислям z=x операция у\n",
    "    push(z)\n",
    "result=pop()\n",
    "\"\"\""
   ]
  },
  {
   "cell_type": "code",
   "execution_count": 89,
   "metadata": {},
   "outputs": [],
   "source": [
    "def opn (s):\n",
    "    for tokin in s:\n",
    "        if tokin in ['+',\"-\",\"/\",\"*\"]:\n",
    "            y = pop()\n",
    "            x = pop()\n",
    "            if tokin == \"+\":\n",
    "                z = x + y\n",
    "            elif tokin == \"-\":\n",
    "                z = x - y\n",
    "            elif tokin == \"*\":\n",
    "                z = x * y\n",
    "            else:\n",
    "                z = x / y\n",
    "            push(z)\n",
    "        else:\n",
    "            push(tokin)\n",
    "            \n",
    "    return pop()"
   ]
  },
  {
   "cell_type": "code",
   "execution_count": 90,
   "metadata": {},
   "outputs": [
    {
     "data": {
      "text/plain": [
       "11"
      ]
     },
     "execution_count": 90,
     "metadata": {},
     "output_type": "execute_result"
    }
   ],
   "source": [
    "opn ([2,3,3,\"*\",\"+\"])"
   ]
  },
  {
   "cell_type": "code",
   "execution_count": null,
   "metadata": {},
   "outputs": [],
   "source": []
  },
  {
   "cell_type": "code",
   "execution_count": null,
   "metadata": {},
   "outputs": [],
   "source": []
  },
  {
   "cell_type": "code",
   "execution_count": null,
   "metadata": {},
   "outputs": [],
   "source": []
  }
 ],
 "metadata": {
  "kernelspec": {
   "display_name": "Python 3",
   "language": "python",
   "name": "python3"
  },
  "language_info": {
   "codemirror_mode": {
    "name": "ipython",
    "version": 3
   },
   "file_extension": ".py",
   "mimetype": "text/x-python",
   "name": "python",
   "nbconvert_exporter": "python",
   "pygments_lexer": "ipython3",
   "version": "3.6.1"
  }
 },
 "nbformat": 4,
 "nbformat_minor": 2
}
