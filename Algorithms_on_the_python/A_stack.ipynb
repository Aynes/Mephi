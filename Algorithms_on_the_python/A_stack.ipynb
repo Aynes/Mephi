{
 "cells": [
  {
   "cell_type": "code",
   "execution_count": 1,
   "metadata": {
    "collapsed": true
   },
   "outputs": [],
   "source": [
    "\"\"\"\n",
    "Модуль, описывающий  структуру данных - стек.\n",
    "\n",
    ">>> clear()\n",
    ">>> is_empty ()\n",
    "True\n",
    ">>> push(1)\n",
    ">>> push(2)\n",
    ">>> push(3)\n",
    ">>> is_empty ()\n",
    "False\n",
    ">>> pop()\n",
    "3\n",
    ">>> pop ()\n",
    "2\n",
    ">>> pop ()\n",
    "1\n",
    ">>> is_empty ()\n",
    "True\n",
    "\"\"\"\n",
    "\n",
    "_stack = []\n",
    "\n",
    "def push(x):\n",
    "    '''\n",
    "    Добовляет элемт х в конец стека\n",
    "    \n",
    "    >>> size = len(_stack)\n",
    "    >>> push(5)\n",
    "    >>> len(_stack) - size\n",
    "    1\n",
    "    >>> _stack[-1]\n",
    "    5\n",
    "    '''\n",
    "    _stack.append(x)\n",
    "    \n",
    "def pop():\n",
    "    x=_stack.pop()\n",
    "    return x\n",
    "\n",
    "def clear():\n",
    "    _stack.clear()\n",
    "    \n",
    "def is_empty():\n",
    "    return len(_stack) == 0\n",
    "\n",
    "\n",
    "if __name__==\"__main__\":\n",
    "    import doctest\n",
    "    doctest.testmod()"
   ]
  }
 ],
 "metadata": {
  "kernelspec": {
   "display_name": "Python 3",
   "language": "python",
   "name": "python3"
  },
  "language_info": {
   "codemirror_mode": {
    "name": "ipython",
    "version": 3
   },
   "file_extension": ".py",
   "mimetype": "text/x-python",
   "name": "python",
   "nbconvert_exporter": "python",
   "pygments_lexer": "ipython3",
   "version": "3.6.1"
  }
 },
 "nbformat": 4,
 "nbformat_minor": 2
}
