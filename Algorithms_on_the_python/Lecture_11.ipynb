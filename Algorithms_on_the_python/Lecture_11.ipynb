{
 "cells": [
  {
   "cell_type": "markdown",
   "metadata": {},
   "source": [
    "## Наибольшая общая подпоследовательность"
   ]
  },
  {
   "cell_type": "markdown",
   "metadata": {},
   "source": [
    "A,B - массивы чисел (одномерные)\n",
    "\n",
    "`len(A) == N`\n",
    "\n",
    "`len(B) == M`"
   ]
  },
  {
   "cell_type": "markdown",
   "metadata": {},
   "source": [
    "*`Подпоследовательность А`*- список С, содержащий элементы A в исходном порядке, но, возможно, не все"
   ]
  },
  {
   "cell_type": "markdown",
   "metadata": {},
   "source": [
    "[  ] - подпоследовательность любой последовательности."
   ]
  },
  {
   "cell_type": "markdown",
   "metadata": {},
   "source": [
    "F`ij` - длина наибольшей возможной подпоследовательности частей А и В : \n",
    "* А[ 0:i ] - часть А, содержащая первые i элементоа;\n",
    "* B[ 0:j ] - часть B, содержащая первые j элементоа;"
   ]
  },
  {
   "cell_type": "code",
   "execution_count": 2,
   "metadata": {
    "collapsed": true
   },
   "outputs": [],
   "source": [
    "def lcs(A,B):\n",
    "    F=[[0]*(len(B)+1) for i in range(len(A)+1)]\n",
    "    for i in range (1,len(A)+1):\n",
    "        for j in range(1, len(B)+1):\n",
    "            if A[i-1] == B[j-1]:\n",
    "                F[i][j] = 1 + F[i-1][j-1]\n",
    "            else:\n",
    "                F[i][j] = max(F[i-1][j],F[i][j-1])\n",
    "    return F[-1][-1]"
   ]
  },
  {
   "cell_type": "code",
   "execution_count": 7,
   "metadata": {
    "scrolled": true
   },
   "outputs": [
    {
     "data": {
      "text/plain": [
       "2"
      ]
     },
     "execution_count": 7,
     "metadata": {},
     "output_type": "execute_result"
    }
   ],
   "source": [
    "lcs ([1,2,3,4,5,6],[3,1,6,2])"
   ]
  },
  {
   "cell_type": "markdown",
   "metadata": {},
   "source": [
    "### Наибольшая возрастающая подпоследовательность"
   ]
  },
  {
   "cell_type": "markdown",
   "metadata": {},
   "source": [
    "Fi- Наибольшая возрастающая подпоследовательность для части A[0,i], заканчивается и содержит элемент ai:=A[i-1]"
   ]
  },
  {
   "cell_type": "code",
   "execution_count": 1,
   "metadata": {
    "collapsed": true
   },
   "outputs": [],
   "source": [
    "def gis (A):\n",
    "    F = [0] * (len(A)+1)\n",
    "    for i in range (1,len(A)+1):\n",
    "        m = 0\n",
    "        for j in range (0, i): # j номер элемента\n",
    "            if A[i-1] > A[j] and F[j] > m:\n",
    "                m = F[j]\n",
    "    F[i]=m+1\n",
    "    return F[len(A)]                "
   ]
  },
  {
   "cell_type": "code",
   "execution_count": 4,
   "metadata": {},
   "outputs": [
    {
     "data": {
      "text/plain": [
       "1"
      ]
     },
     "execution_count": 4,
     "metadata": {},
     "output_type": "execute_result"
    }
   ],
   "source": [
    "gis ([1,6])"
   ]
  },
  {
   "cell_type": "code",
   "execution_count": 3,
   "metadata": {},
   "outputs": [
    {
     "data": {
      "text/plain": [
       "1"
      ]
     },
     "execution_count": 3,
     "metadata": {},
     "output_type": "execute_result"
    }
   ],
   "source": [
    "gis([1,2,3,4])"
   ]
  },
  {
   "cell_type": "code",
   "execution_count": null,
   "metadata": {
    "collapsed": true
   },
   "outputs": [],
   "source": []
  },
  {
   "cell_type": "code",
   "execution_count": null,
   "metadata": {
    "collapsed": true
   },
   "outputs": [],
   "source": []
  },
  {
   "cell_type": "code",
   "execution_count": null,
   "metadata": {
    "collapsed": true
   },
   "outputs": [],
   "source": []
  },
  {
   "cell_type": "code",
   "execution_count": null,
   "metadata": {
    "collapsed": true
   },
   "outputs": [],
   "source": []
  }
 ],
 "metadata": {
  "kernelspec": {
   "display_name": "Python 3",
   "language": "python",
   "name": "python3"
  },
  "language_info": {
   "codemirror_mode": {
    "name": "ipython",
    "version": 3
   },
   "file_extension": ".py",
   "mimetype": "text/x-python",
   "name": "python",
   "nbconvert_exporter": "python",
   "pygments_lexer": "ipython3",
   "version": "3.6.1"
  }
 },
 "nbformat": 4,
 "nbformat_minor": 2
}
